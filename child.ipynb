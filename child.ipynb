{
 "cells": [
  {
   "cell_type": "markdown",
   "metadata": {},
   "source": [
    "- Feature Engineering \n",
    "- "
   ]
  },
  {
   "cell_type": "code",
   "execution_count": null,
   "metadata": {},
   "outputs": [],
   "source": [
    "import pandas as pd\n",
    "import numpy as np\n",
    "from sklearn.preprocessing import StandardScaler, OneHotEncoder\n",
    "from sklearn.compose import ColumnTransformer\n",
    "from sklearn.pipeline import Pipeline"
   ]
  },
  {
   "cell_type": "code",
   "execution_count": null,
   "metadata": {},
   "outputs": [],
   "source": [
    "# Load cleaned data\n",
    "train = pd.read_csv('train_cleand.csv')\n",
    "test = pd.read_csv('test_cleand.csv')\n",
    "\n",
    "# Save target variable and IDs\n",
    "y_train = train['SalePrice']\n",
    "test_ids = test['Id']\n",
    "train.drop(['Id', 'SalePrice'], axis=1, inplace=True)\n",
    "test.drop('Id', axis=1, inplace=True)"
   ]
  },
  {
   "cell_type": "code",
   "execution_count": null,
   "metadata": {},
   "outputs": [],
   "source": [
    "# Total area of the house\n",
    "train['TotalArea'] = train['TotalBsmtSF'] + train['1stFlrSF'] + train['2ndFlrSF']\n",
    "test['TotalArea'] = test['TotalBsmtSF'] + test['1stFlrSF'] + test['2ndFlrSF']\n",
    "\n",
    "# Age of the house when sold\n",
    "train['HouseAge'] = train['YrSold'] - train['YearBuilt']\n",
    "test['HouseAge'] = test['YrSold'] - test['YearBuilt']\n",
    "\n",
    "# Interaction term: Overall quality * Living area\n",
    "train['QualLivArea'] = train['OverallQual'] * train['GrLivArea']\n",
    "test['QualLivArea'] = test['OverallQual'] * test['GrLivArea']\n",
    "\n",
    "# Drop original columns if needed (optional)\n",
    "# train.drop(['TotalBsmtSF', '1stFlrSF', '2ndFlrSF', 'YrSold', 'YearBuilt'], axis=1, inplace=True)"
   ]
  }
 ],
 "metadata": {
  "kernelspec": {
   "display_name": "Python 3",
   "language": "python",
   "name": "python3"
  },
  "language_info": {
   "name": "python",
   "version": "3.12.5"
  }
 },
 "nbformat": 4,
 "nbformat_minor": 2
}
